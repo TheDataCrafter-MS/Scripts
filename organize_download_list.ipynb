{
 "cells": [
  {
   "cell_type": "code",
   "execution_count": 2,
   "id": "58be78ed",
   "metadata": {},
   "outputs": [
    {
     "name": "stdout",
     "output_type": "stream",
     "text": [
      "✅ Downloads folder organized by file type.\n"
     ]
    }
   ],
   "source": [
    "import os\n",
    "import shutil\n",
    "\n",
    "# === INPUT ===\n",
    "downloads_folder = r\"C:\\Users\\subas\\Downloads\"\n",
    "\n",
    "# Define target folders by extension\n",
    "file_types = {\n",
    "    'pdf': 'PDFs',\n",
    "    'jpg': 'Images',\n",
    "    'jpeg': 'Images',\n",
    "    'png': 'Images',\n",
    "    'exe': 'Software',\n",
    "    'msi': 'Software',\n",
    "    'doc': 'Documents',\n",
    "    'docx': 'Documents',\n",
    "    'xls': 'Excel',\n",
    "    'xlsx': 'Excel',\n",
    "    'zip': 'Zips',\n",
    "    'rar': 'Zips'\n",
    "}\n",
    "\n",
    "# === Organize files ===\n",
    "for filename in os.listdir(downloads_folder):\n",
    "    file_path = os.path.join(downloads_folder, filename)\n",
    "    if os.path.isfile(file_path):\n",
    "        ext = filename.split('.')[-1].lower()\n",
    "        folder_name = file_types.get(ext, 'Others')\n",
    "        target_folder = os.path.join(downloads_folder, folder_name)\n",
    "        os.makedirs(target_folder, exist_ok=True)\n",
    "        shutil.move(file_path, os.path.join(target_folder, filename))\n",
    "\n",
    "print(\"✅ Downloads folder organized by file type.\")\n"
   ]
  }
 ],
 "metadata": {
  "kernelspec": {
   "display_name": "base",
   "language": "python",
   "name": "python3"
  },
  "language_info": {
   "codemirror_mode": {
    "name": "ipython",
    "version": 3
   },
   "file_extension": ".py",
   "mimetype": "text/x-python",
   "name": "python",
   "nbconvert_exporter": "python",
   "pygments_lexer": "ipython3",
   "version": "3.13.5"
  }
 },
 "nbformat": 4,
 "nbformat_minor": 5
}
