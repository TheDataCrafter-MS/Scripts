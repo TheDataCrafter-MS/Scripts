{
 "cells": [
  {
   "cell_type": "markdown",
   "id": "2ba8f3a3",
   "metadata": {},
   "source": [
    "Numpy"
   ]
  },
  {
   "cell_type": "code",
   "execution_count": 3,
   "id": "f1d3c790",
   "metadata": {},
   "outputs": [
    {
     "name": "stdout",
     "output_type": "stream",
     "text": [
      "[1 2 3 4 5]\n"
     ]
    },
    {
     "data": {
      "text/plain": [
       "numpy.ndarray"
      ]
     },
     "execution_count": 3,
     "metadata": {},
     "output_type": "execute_result"
    }
   ],
   "source": [
    "import numpy as np \n",
    "a =np.array([1,2,3,4,5])\n",
    "print(a)\n",
    "type(a)"
   ]
  },
  {
   "cell_type": "code",
   "execution_count": 4,
   "id": "a36a3fab",
   "metadata": {},
   "outputs": [],
   "source": [
    "#creating a 1d array -- one dimenstion array\n",
    "#is linear data structure where we store the elements in sequence\n",
    "\n",
    "n1=np.array([1,2,3])"
   ]
  },
  {
   "cell_type": "code",
   "execution_count": 64,
   "id": "2fade6a3",
   "metadata": {},
   "outputs": [
    {
     "data": {
      "text/plain": [
       "dtype('int64')"
      ]
     },
     "execution_count": 64,
     "metadata": {},
     "output_type": "execute_result"
    }
   ],
   "source": [
    "#Creating 2d array  \n",
    "#It is an matrix like data structure wher data is stored in rows and columns.\n",
    "import numpy as  np\n",
    "b =np.array([[1,2,3],[4,5,6]])\n",
    "type(b)\n",
    "b.shape\n",
    "b.dtype"
   ]
  },
  {
   "cell_type": "code",
   "execution_count": 30,
   "id": "3dd2c6c7",
   "metadata": {},
   "outputs": [
    {
     "name": "stdout",
     "output_type": "stream",
     "text": [
      "[[1 2 3]\n",
      " [4 5 6]]\n"
     ]
    }
   ],
   "source": [
    "import numpy as np\n",
    "b =np.array([[1,2,3],[4,5,6]],dtype=int)\n",
    "type(b)\n",
    "print(b)\n"
   ]
  },
  {
   "cell_type": "markdown",
   "id": "cc6dea96",
   "metadata": {},
   "source": [
    "b.dtype"
   ]
  },
  {
   "cell_type": "code",
   "execution_count": 25,
   "id": "596a708d",
   "metadata": {},
   "outputs": [
    {
     "data": {
      "text/plain": [
       "(3, 4)"
      ]
     },
     "execution_count": 25,
     "metadata": {},
     "output_type": "execute_result"
    }
   ],
   "source": [
    "import numpy as np\n",
    "n=np.zeros((3,4))\n",
    "n.shape\n"
   ]
  },
  {
   "cell_type": "code",
   "execution_count": null,
   "id": "2081a9c2",
   "metadata": {},
   "outputs": [
    {
     "name": "stdout",
     "output_type": "stream",
     "text": [
      "[[1. 2. 3.]\n",
      " [4. 5. 6.]]\n"
     ]
    }
   ],
   "source": [
    "import numpy as np  \n",
    "b =np.array([[1,2,3],[4,5,6]],dtype=float)\n",
    "type(b)\n",
    "print(b)"
   ]
  },
  {
   "cell_type": "code",
   "execution_count": 133,
   "id": "83d42ac5",
   "metadata": {},
   "outputs": [
    {
     "name": "stdout",
     "output_type": "stream",
     "text": [
      "[[2 2 2 2 2 2]\n",
      " [2 2 2 2 2 2]\n",
      " [2 2 2 2 2 2]\n",
      " [2 2 2 2 2 2]\n",
      " [2 2 2 2 2 2]]\n"
     ]
    }
   ],
   "source": [
    "import numpy as np #array of a particular value\n",
    "data =np.ones((5,5))\n",
    "a=2\n",
    "my_data=np.full((5,6),a)\n",
    "print(my_data)"
   ]
  },
  {
   "cell_type": "code",
   "execution_count": 78,
   "id": "d6666f84",
   "metadata": {},
   "outputs": [
    {
     "data": {
      "text/plain": [
       "array([[1, 0, 0, 0, 0, 0],\n",
       "       [0, 1, 0, 0, 0, 0],\n",
       "       [0, 0, 1, 0, 0, 0],\n",
       "       [0, 0, 0, 1, 0, 0]])"
      ]
     },
     "execution_count": 78,
     "metadata": {},
     "output_type": "execute_result"
    }
   ],
   "source": [
    "# create a identity matrix\n",
    "import numpy as np\n",
    "data=np.eye(4,6,0,dtype=int)\n",
    "data"
   ]
  },
  {
   "cell_type": "code",
   "execution_count": 74,
   "id": "e80687be",
   "metadata": {},
   "outputs": [
    {
     "name": "stdout",
     "output_type": "stream",
     "text": [
      "[[0 0 1 0 0]\n",
      " [0 0 0 1 0]\n",
      " [0 0 0 0 1]\n",
      " [0 0 0 0 0]]\n"
     ]
    }
   ],
   "source": [
    "print(data)"
   ]
  },
  {
   "cell_type": "code",
   "execution_count": 72,
   "id": "1dcdd356",
   "metadata": {},
   "outputs": [
    {
     "data": {
      "text/plain": [
       "(4, 5)"
      ]
     },
     "execution_count": 72,
     "metadata": {},
     "output_type": "execute_result"
    }
   ],
   "source": [
    "data.shape"
   ]
  },
  {
   "cell_type": "code",
   "execution_count": 68,
   "id": "f53a1930",
   "metadata": {},
   "outputs": [
    {
     "data": {
      "text/plain": [
       "dtype('float64')"
      ]
     },
     "execution_count": 68,
     "metadata": {},
     "output_type": "execute_result"
    }
   ],
   "source": [
    "data.dtype"
   ]
  },
  {
   "cell_type": "code",
   "execution_count": 80,
   "id": "0c01184f",
   "metadata": {},
   "outputs": [],
   "source": [
    "\n",
    "#create a numpy array with random values\n",
    "import numpy as np\n",
    "data=np.random.random((3,4))"
   ]
  },
  {
   "cell_type": "code",
   "execution_count": 81,
   "id": "da8e013a",
   "metadata": {},
   "outputs": [
    {
     "data": {
      "text/plain": [
       "array([[0.17087945, 0.17818647, 0.13837479, 0.28041391],\n",
       "       [0.61922352, 0.73780894, 0.91161107, 0.24479754],\n",
       "       [0.49826745, 0.71682535, 0.70267171, 0.66485912]])"
      ]
     },
     "execution_count": 81,
     "metadata": {},
     "output_type": "execute_result"
    }
   ],
   "source": [
    "data"
   ]
  },
  {
   "cell_type": "code",
   "execution_count": 106,
   "id": "5dfbc0fd",
   "metadata": {},
   "outputs": [
    {
     "name": "stdout",
     "output_type": "stream",
     "text": [
      "[[[1 2]\n",
      "  [3 4]]\n",
      "\n",
      " [[5 6]\n",
      "  [7 8]]]\n"
     ]
    }
   ],
   "source": [
    "#array of evenly spaced values--->specify the no of values required\n",
    "import numpy as np \n",
    "c = np.array([[[1, 2], [3, 4]], [[5, 6], [7, 8]]])\n",
    "print(c)"
   ]
  },
  {
   "cell_type": "code",
   "execution_count": 104,
   "id": "00195e08",
   "metadata": {},
   "outputs": [
    {
     "name": "stdout",
     "output_type": "stream",
     "text": [
      "[ 1  3  5  7 10]\n"
     ]
    }
   ],
   "source": [
    "print(data)"
   ]
  },
  {
   "cell_type": "code",
   "execution_count": 132,
   "id": "422d7dd2",
   "metadata": {},
   "outputs": [
    {
     "name": "stdout",
     "output_type": "stream",
     "text": [
      "[[ 2  3  4 56]\n",
      " [11  0  0  0]]\n"
     ]
    }
   ],
   "source": [
    "import numpy as np \n",
    "a=(2,3,4,56,11)\n",
    "n =np.array(a)\n",
    "n.resize((2,4))\n",
    "print(n)"
   ]
  },
  {
   "cell_type": "code",
   "execution_count": null,
   "id": "1cd3438b",
   "metadata": {},
   "outputs": [],
   "source": []
  }
 ],
 "metadata": {
  "kernelspec": {
   "display_name": "Python 3",
   "language": "python",
   "name": "python3"
  },
  "language_info": {
   "codemirror_mode": {
    "name": "ipython",
    "version": 3
   },
   "file_extension": ".py",
   "mimetype": "text/x-python",
   "name": "python",
   "nbconvert_exporter": "python",
   "pygments_lexer": "ipython3",
   "version": "3.13.2"
  }
 },
 "nbformat": 4,
 "nbformat_minor": 5
}
