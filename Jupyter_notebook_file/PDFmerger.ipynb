import zipfile
import os
from PyPDF2 import PdfMerger

# === INPUT ===
zip_file_path = "C:\Users\subas\Downloads\Statistics for Data Science and Business Analysis.zip"  # your zip file path
extract_dir = 'extracted_files'
pdf_merge_output = 'merged.pdf'

# === STEP 1. Extract zip ===
with zipfile.ZipFile(zip_file_path, 'r') as zip_ref:
    zip_ref.extractall(extract_dir)

# === STEP 2. Create folders for Excel and PDF ===
pdf_dir = os.path.join(extract_dir, 'pdf_files')
excel_dir = os.path.join(extract_dir, 'excel_files')

os.makedirs(pdf_dir, exist_ok=True)
os.makedirs(excel_dir, exist_ok=True)

# === STEP 3. Separate files ===
for filename in os.listdir(extract_dir):
    file_path = os.path.join(extract_dir, filename)
    if os.path.isfile(file_path):
        if filename.lower().endswith('.pdf'):
            os.rename(file_path, os.path.join(pdf_dir, filename))
        elif filename.lower().endswith(('.xls', '.xlsx')):
            os.rename(file_path, os.path.join(excel_dir, filename))

# === STEP 4. Merge all PDFs ===
merger = PdfMerger()

pdf_files = [f for f in os.listdir(pdf_dir) if f.lower().endswith('.pdf')]
pdf_files.sort()  # optional: sort files alphabetically before merging

for pdf in pdf_files:
    pdf_path = os.path.join(pdf_dir, pdf)
    merger.append(pdf_path)

# === STEP 5. Save merged PDF ===
merger.write(os.path.join(extract_dir, pdf_merge_output))
merger.close()

print(f"✅ Extraction complete. PDFs merged into '{pdf_merge_output}'.")
print(f"🔎 Excel files are in '{excel_dir}'.")
print(f"🔎 PDF files are in '{pdf_dir}'.")
