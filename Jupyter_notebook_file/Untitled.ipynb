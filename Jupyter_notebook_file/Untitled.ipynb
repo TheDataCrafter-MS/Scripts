{
 "cells": [
  {
   "cell_type": "code",
   "execution_count": 5,
   "id": "1900533c",
   "metadata": {},
   "outputs": [],
   "source": [
    "my_dict = {\n",
    "    (\"name\"): \"Subash\",\n",
    "    \"age\": 25,\n",
    "    \"location\": \"Chennai\"\n",
    "}\n"
   ]
  },
  {
   "cell_type": "code",
   "execution_count": null,
   "id": "909091b5",
   "metadata": {},
   "outputs": [],
   "source": [
    "a."
   ]
  },
  {
   "cell_type": "code",
   "execution_count": 1,
   "id": "ae22a95f",
   "metadata": {},
   "outputs": [
    {
     "name": "stdout",
     "output_type": "stream",
     "text": [
      "[1, 2, 3]\n"
     ]
    }
   ],
   "source": [
    "a = [1,2,3]\n",
    "print(a)"
   ]
  },
  {
   "cell_type": "code",
   "execution_count": 1,
   "id": "4f597349",
   "metadata": {},
   "outputs": [
    {
     "data": {
      "text/plain": [
       "1.3333333333333333"
      ]
     },
     "execution_count": 1,
     "metadata": {},
     "output_type": "execute_result"
    }
   ],
   "source": [
    "4/3"
   ]
  },
  {
   "cell_type": "code",
   "execution_count": 2,
   "id": "6b9c15da",
   "metadata": {},
   "outputs": [
    {
     "data": {
      "text/plain": [
       "2.0"
      ]
     },
     "execution_count": 2,
     "metadata": {},
     "output_type": "execute_result"
    }
   ],
   "source": [
    "4/2"
   ]
  },
  {
   "cell_type": "code",
   "execution_count": 3,
   "id": "8d6b4621",
   "metadata": {},
   "outputs": [
    {
     "data": {
      "text/plain": [
       "2.5"
      ]
     },
     "execution_count": 3,
     "metadata": {},
     "output_type": "execute_result"
    }
   ],
   "source": [
    "5/2"
   ]
  },
  {
   "cell_type": "code",
   "execution_count": 4,
   "id": "3f5c3da9",
   "metadata": {},
   "outputs": [
    {
     "data": {
      "text/plain": [
       "1.3333333333333333"
      ]
     },
     "execution_count": 4,
     "metadata": {},
     "output_type": "execute_result"
    }
   ],
   "source": [
    "4/3"
   ]
  },
  {
   "cell_type": "code",
   "execution_count": 5,
   "id": "1000a136",
   "metadata": {},
   "outputs": [
    {
     "data": {
      "text/plain": [
       "1"
      ]
     },
     "execution_count": 5,
     "metadata": {},
     "output_type": "execute_result"
    }
   ],
   "source": [
    "4//3"
   ]
  },
  {
   "cell_type": "code",
   "execution_count": 14,
   "id": "69615ea9",
   "metadata": {},
   "outputs": [],
   "source": [
    "#divmod\n",
    "\n",
    "quotient, remainder = divmod(4,3)\n"
   ]
  },
  {
   "cell_type": "code",
   "execution_count": 15,
   "id": "5418b9e3",
   "metadata": {},
   "outputs": [],
   "source": [
    "def sub(a,b):\n",
    "    c = a + b\n",
    "    return c\n",
    "\n"
   ]
  },
  {
   "cell_type": "code",
   "execution_count": 19,
   "id": "23e9c319",
   "metadata": {},
   "outputs": [],
   "source": [
    "c=sub(1,2)"
   ]
  },
  {
   "cell_type": "code",
   "execution_count": 20,
   "id": "98d0fe5e",
   "metadata": {},
   "outputs": [
    {
     "name": "stdout",
     "output_type": "stream",
     "text": [
      "3\n"
     ]
    }
   ],
   "source": [
    "print(c)"
   ]
  },
  {
   "cell_type": "code",
   "execution_count": 4,
   "id": "d38c5874",
   "metadata": {},
   "outputs": [],
   "source": [
    "listarr = [[1,2,3,4],[5,6,7,8]]"
   ]
  },
  {
   "cell_type": "code",
   "execution_count": 8,
   "id": "25c34f1e",
   "metadata": {},
   "outputs": [],
   "source": [
    "a,b=listarr\n",
    "a.append(b)"
   ]
  },
  {
   "cell_type": "code",
   "execution_count": 9,
   "id": "bf8a29ed",
   "metadata": {},
   "outputs": [
    {
     "name": "stdout",
     "output_type": "stream",
     "text": [
      "[1, 2, 3, 4, 5, 6, 7, 8, [5, 6, 7, 8]]\n"
     ]
    }
   ],
   "source": [
    "print(a)"
   ]
  },
  {
   "cell_type": "code",
   "execution_count": null,
   "id": "5cdb25a7",
   "metadata": {},
   "outputs": [],
   "source": [
    "SHI"
   ]
  },
  {
   "cell_type": "code",
   "execution_count": null,
   "id": "56ff087d",
   "metadata": {},
   "outputs": [],
   "source": []
  },
  {
   "cell_type": "code",
   "execution_count": 6,
   "id": "165a45ed",
   "metadata": {},
   "outputs": [
    {
     "name": "stdout",
     "output_type": "stream",
     "text": [
      "hi\n"
     ]
    }
   ],
   "source": [
    "while True:\n",
    "    print(\"hi\")\n",
    "    break"
   ]
  },
  {
   "cell_type": "code",
   "execution_count": 11,
   "id": "74a03724",
   "metadata": {},
   "outputs": [
    {
     "name": "stdout",
     "output_type": "stream",
     "text": [
      "a\n",
      "b\n",
      "c\n"
     ]
    }
   ],
   "source": [
    "for char in \"abc\":\n",
    "    print(char)\n"
   ]
  },
  {
   "cell_type": "code",
   "execution_count": null,
   "id": "f9529548",
   "metadata": {},
   "outputs": [
    {
     "name": "stdout",
     "output_type": "stream",
     "text": [
      "apple\n",
      "banana\n",
      "cherry\n",
      "orange\n",
      "['apple', 'banana', 'cherry']\n",
      "banana\n",
      "cherry\n"
     ]
    }
   ],
   "source": [
    "my_list = [\"apple\", \"banana\", \"cherry\",\"orange\"]\n",
    "\n",
    "for i in range(len(my_list)):\n",
    "    print(\"Index:\", i, \"Value:\", my_list[i])\n",
    "\n",
    "\n",
    "print(my_list[0:3])  # Output: apple\n",
    "print(my_list[1])  # Output: banana\n",
    "print(my_list[2])  # Output: cherry\n"
   ]
  },
  {
   "cell_type": "code",
   "execution_count": 23,
   "id": "5d9c47bc",
   "metadata": {},
   "outputs": [
    {
     "name": "stdout",
     "output_type": "stream",
     "text": [
      "['a', 'b', 'c', 'd']\n"
     ]
    }
   ],
   "source": [
    "x =['a','b','c','d']\n",
    "print(x)"
   ]
  },
  {
   "cell_type": "code",
   "execution_count": 26,
   "id": "d533a2c5",
   "metadata": {},
   "outputs": [],
   "source": [
    "x[1:]=['e','f']"
   ]
  },
  {
   "cell_type": "code",
   "execution_count": 27,
   "id": "5aaf608d",
   "metadata": {},
   "outputs": [
    {
     "name": "stdout",
     "output_type": "stream",
     "text": [
      "['a', 'e', 'f']\n"
     ]
    }
   ],
   "source": [
    "print(x)"
   ]
  },
  {
   "cell_type": "code",
   "execution_count": 3,
   "id": "7d8c96e1",
   "metadata": {},
   "outputs": [
    {
     "name": "stdout",
     "output_type": "stream",
     "text": [
      "['apple', 'b', 'l', 'a', 'c', 'k', 'c', 'u', 'r', 'r', 'a', 'n', 't']\n"
     ]
    }
   ],
   "source": [
    "thislist = [\"apple\", \"banana\", \"cherry\"]\n",
    "thislist[1:3] = \"blackcurrant\"\n",
    "\n",
    "\n",
    "print(thislist)\n"
   ]
  },
  {
   "cell_type": "markdown",
   "id": "409e1a3b",
   "metadata": {},
   "source": [
    "insert()method"
   ]
  },
  {
   "cell_type": "code",
   "execution_count": null,
   "id": "71a9f5ff",
   "metadata": {},
   "outputs": [
    {
     "name": "stdout",
     "output_type": "stream",
     "text": [
      "[5, 10, 20, 30, 25, 40]\n"
     ]
    }
   ],
   "source": [
    "nums = [10, 20, 30]\n",
    "nums.insert(0, 5)         # [5, 10, 20, 30]\n",
    "nums.insert(100, 40)      # [5, 10, 20, 30, 40] — large index appends to end\n",
    "nums.insert(-1, 25)       # [5, 10, 20, 25, 30, 40] — inserts before last\n",
    "print(nums)"
   ]
  },
  {
   "cell_type": "code",
   "execution_count": 16,
   "id": "28f81ef0",
   "metadata": {},
   "outputs": [
    {
     "name": "stdout",
     "output_type": "stream",
     "text": [
      "['apple', 'banana', 'cherry', 'orange']\n"
     ]
    }
   ],
   "source": [
    "fruits = [\"apple\", \"banana\"]\n",
    "fruits.extend([\"cherry\", \"orange\"])\n",
    "\n",
    "print(fruits)  # ['apple', 'banana', 'cherry', 'orange']\n"
   ]
  },
  {
   "cell_type": "code",
   "execution_count": 17,
   "id": "1c1bbef5",
   "metadata": {},
   "outputs": [
    {
     "name": "stdout",
     "output_type": "stream",
     "text": [
      "['apple', 'banana', 'cherry', 'orange', 'kiwi']\n"
     ]
    }
   ],
   "source": [
    "fruits.append(\"kiwi\")\n",
    "print(fruits)  \n"
   ]
  },
  {
   "cell_type": "code",
   "execution_count": 20,
   "id": "af4ff0c7",
   "metadata": {},
   "outputs": [
    {
     "name": "stdout",
     "output_type": "stream",
     "text": [
      "[]\n"
     ]
    }
   ],
   "source": [
    "fruits = [\"apple\", \"banana\", \"cherry\"]\n",
    "fruits.clear()\n",
    "\n",
    "print(fruits)  # []\n"
   ]
  },
  {
   "cell_type": "code",
   "execution_count": 21,
   "id": "80bd22b1",
   "metadata": {},
   "outputs": [
    {
     "name": "stdout",
     "output_type": "stream",
     "text": [
      "[2, 4, 6]\n"
     ]
    }
   ],
   "source": [
    "nums = [1, 2, 3, 4, 5, 6]\n",
    "evens = [n for n in nums if n % 2 == 0]\n",
    "\n",
    "print(evens)  # [2, 4, 6]\n"
   ]
  },
  {
   "cell_type": "code",
   "execution_count": 25,
   "id": "99bd02c9",
   "metadata": {},
   "outputs": [
    {
     "name": "stdout",
     "output_type": "stream",
     "text": [
      "{'a', 'l', 'e', 'p'}\n"
     ]
    }
   ],
   "source": [
    "fruits ='apple'\n",
    "\n",
    "newlist = {x for x in fruits }\n",
    "\n",
    "print(newlist)"
   ]
  },
  {
   "cell_type": "code",
   "execution_count": 2,
   "id": "709ce8c2",
   "metadata": {},
   "outputs": [
    {
     "ename": "SyntaxError",
     "evalue": "(unicode error) 'unicodeescape' codec can't decode bytes in position 0-1: truncated \\UXXXXXXXX escape (206570696.py, line 5)",
     "output_type": "error",
     "traceback": [
      "  \u001b[36mCell\u001b[39m\u001b[36m \u001b[39m\u001b[32mIn[2]\u001b[39m\u001b[32m, line 5\u001b[39m\n\u001b[31m    \u001b[39m\u001b[31mdf = pd.read_csv(\"\\Users\\subas\\Downloads\\2025-05-02 8_06pm.csv\")\u001b[39m\n                     ^\n\u001b[31mSyntaxError\u001b[39m\u001b[31m:\u001b[39m (unicode error) 'unicodeescape' codec can't decode bytes in position 0-1: truncated \\UXXXXXXXX escape\n"
     ]
    }
   ],
   "source": [
    "import pandas as pd\n",
    "import seaborn as sns\n",
    "import matplotlib.pyplot as plt\n",
    "\n",
    "df = pd.read_csv(\"\\Users\\subas\\Downloads\\2025-05-02 8_06pm.csv\")\n",
    "\n",
    "# 1. Basic Overview\n",
    "print(df.head())\n",
    "print(df.info())\n",
    "print(df.describe())\n",
    "\n",
    "# 2. Check Missing Values\n",
    "print(df.isnull().sum())\n",
    "\n",
    "# 3. Histogram of a Column\n",
    "sns.histplot(df['age'])\n",
    "plt.show()\n",
    "\n",
    "# 4. Boxplot to Check Outliers\n",
    "sns.boxplot(x=df['salary'])\n",
    "plt.show()\n",
    "\n",
    "# 5. Correlation Heatmap\n",
    "sns.heatmap(df.corr(), annot=True)\n",
    "plt.show()\n"
   ]
  },
  {
   "cell_type": "code",
   "execution_count": null,
   "id": "0a9be8a0",
   "metadata": {},
   "outputs": [],
   "source": [
    "my_list = [1, 2, 3, 4, 5]"
   ]
  },
  {
   "cell_type": "code",
   "execution_count": 5,
   "id": "b40c8cdd",
   "metadata": {},
   "outputs": [
    {
     "name": "stdout",
     "output_type": "stream",
     "text": [
      "[0, 2, 4, 6, 8]\n"
     ]
    }
   ],
   "source": [
    "fruits = [\"apple\", \"banana\", \"cherry\", \"kiwi\", \"mango\"]\n",
    "newlist = [x for x in range(10) if x % 2 == 0]\n",
    "print(newlist)  "
   ]
  },
  {
   "cell_type": "code",
   "execution_count": null,
   "id": "93744ad4",
   "metadata": {},
   "outputs": [],
   "source": []
  },
  {
   "cell_type": "code",
   "execution_count": 2,
   "id": "9c3c916f",
   "metadata": {},
   "outputs": [
    {
     "name": "stdout",
     "output_type": "stream",
     "text": [
      "[1, 2, 3, [4, 5, 6], 4, 5, 6]\n",
      "[4, 5, 6]\n",
      "None\n",
      "None\n"
     ]
    }
   ],
   "source": [
    "a = [1, 2, 3]\n",
    "b = [4, 5, 6]\n",
    "c = a.append(b)\n",
    "d = a.extend(b)\n",
    "\n",
    "print(a)\n",
    "print(b)\n",
    "print(c)#[[1, 2, 3],[4, 5, 6]]\n",
    "print(d)# [1,2,3,4,5,6]"
   ]
  },
  {
   "cell_type": "code",
   "execution_count": 1,
   "id": "31845c40",
   "metadata": {},
   "outputs": [],
   "source": [
    "a = [1,2,3,4]\n",
    "b = [7,8,9,0]\n",
    "\n",
    "a.append(b)\n"
   ]
  },
  {
   "cell_type": "code",
   "execution_count": null,
   "id": "9eb9be87",
   "metadata": {},
   "outputs": [
    {
     "data": {
      "text/plain": [
       "[1, 2, 3, 4, [7, 8, 9, 0]]"
      ]
     },
     "execution_count": 6,
     "metadata": {},
     "output_type": "execute_result"
    }
   ],
   "source": []
  },
  {
   "cell_type": "code",
   "execution_count": 7,
   "id": "93f4a646",
   "metadata": {},
   "outputs": [],
   "source": [
    "c = a.append(0)"
   ]
  },
  {
   "cell_type": "code",
   "execution_count": 9,
   "id": "94e48391",
   "metadata": {},
   "outputs": [
    {
     "name": "stdout",
     "output_type": "stream",
     "text": [
      "None\n"
     ]
    }
   ],
   "source": [
    "print(c)"
   ]
  },
  {
   "cell_type": "code",
   "execution_count": null,
   "id": "02311727",
   "metadata": {},
   "outputs": [
    {
     "name": "stdout",
     "output_type": "stream",
     "text": [
      "1\n"
     ]
    }
   ],
   "source": []
  },
  {
   "cell_type": "code",
   "execution_count": null,
   "id": "a6492211",
   "metadata": {},
   "outputs": [],
   "source": [
    "i//2==0"
   ]
  }
 ],
 "metadata": {
  "kernelspec": {
   "display_name": "Python 3",
   "language": "python",
   "name": "python3"
  },
  "language_info": {
   "codemirror_mode": {
    "name": "ipython",
    "version": 3
   },
   "file_extension": ".py",
   "mimetype": "text/x-python",
   "name": "python",
   "nbconvert_exporter": "python",
   "pygments_lexer": "ipython3",
   "version": "3.13.2"
  }
 },
 "nbformat": 4,
 "nbformat_minor": 5
}
